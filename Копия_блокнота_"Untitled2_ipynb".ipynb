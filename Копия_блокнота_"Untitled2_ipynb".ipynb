{
  "nbformat": 4,
  "nbformat_minor": 0,
  "metadata": {
    "colab": {
      "name": "Копия блокнота \"Untitled2.ipynb\"",
      "provenance": [],
      "collapsed_sections": [],
      "authorship_tag": "ABX9TyN0TLFPzhgKFGCuzI+csTq9",
      "include_colab_link": true
    },
    "kernelspec": {
      "name": "python3",
      "display_name": "Python 3"
    }
  },
  "cells": [
    {
      "cell_type": "markdown",
      "metadata": {
        "id": "view-in-github",
        "colab_type": "text"
      },
      "source": [
        "<a href=\"https://colab.research.google.com/github/AlexanderShd/Alex/blob/master/%D0%9A%D0%BE%D0%BF%D0%B8%D1%8F_%D0%B1%D0%BB%D0%BE%D0%BA%D0%BD%D0%BE%D1%82%D0%B0_%22Untitled2_ipynb%22.ipynb\" target=\"_parent\"><img src=\"https://colab.research.google.com/assets/colab-badge.svg\" alt=\"Open In Colab\"/></a>"
      ]
    },
    {
      "cell_type": "code",
      "metadata": {
        "id": "3XAC8_5wdd_O",
        "colab_type": "code",
        "colab": {
          "base_uri": "https://localhost:8080/",
          "height": 51
        },
        "outputId": "d3f93a90-95db-420a-baa1-4d7ba133769f"
      },
      "source": [
        "import tensorflow as tf\n",
        "import numpy as np\n",
        "\n",
        "pred = np.array([[31, 23, 4, 24, 27, 34],\n",
        "                [18, 3, 25, 0, 6, 35],\n",
        "                [28, 14, 33, 22, 20, 8],\n",
        "                [13, 30, 21, 19, 7, 9],\n",
        "                [16, 1, 26, 32, 23, 29],\n",
        "                [17, 12, 5, 11, 10, 15]])\n",
        "y = np.array([[31, 23, 4, 24, 27, 14],\n",
        "             [18, 3, 25, 0, 6, 35],\n",
        "             [28, 14, 33, 22, 20, 8],\n",
        "             [13, 30, 21, 19, 7, 9],\n",
        "             [16, 1, 26, 32, 2, 29],\n",
        "             [17, 12, 5, 11, 10, 15]])\n",
        "\n",
        "prediction = tf.equal(tf.argmax(input=pred,axis=1),tf.argmax(input=y,axis=1))\n",
        "accuracy = tf.reduce_mean(input_tensor=tf.cast(prediction,tf.float32))\n",
        "\n",
        "print(\"prediction: \", prediction)\n",
        "print(\"accuracy:   \", accuracy)\n"
      ],
      "execution_count": null,
      "outputs": [
        {
          "output_type": "stream",
          "text": [
            "prediction:  tf.Tensor([False  True  True  True  True  True], shape=(6,), dtype=bool)\n",
            "accuracy:    tf.Tensor(0.8333333, shape=(), dtype=float32)\n"
          ],
          "name": "stdout"
        }
      ]
    }
  ]
}