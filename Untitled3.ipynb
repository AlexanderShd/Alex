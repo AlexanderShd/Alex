{
  "nbformat": 4,
  "nbformat_minor": 0,
  "metadata": {
    "colab": {
      "name": "Untitled3.ipynb",
      "provenance": [],
      "authorship_tag": "ABX9TyN/9r+wexDHn4zl2hKuMYCD",
      "include_colab_link": true
    },
    "kernelspec": {
      "name": "python3",
      "display_name": "Python 3"
    }
  },
  "cells": [
    {
      "cell_type": "markdown",
      "metadata": {
        "id": "view-in-github",
        "colab_type": "text"
      },
      "source": [
        "<a href=\"https://colab.research.google.com/github/AlexanderShd/Alex/blob/master/Untitled3.ipynb\" target=\"_parent\"><img src=\"https://colab.research.google.com/assets/colab-badge.svg\" alt=\"Open In Colab\"/></a>"
      ]
    },
    {
      "cell_type": "code",
      "metadata": {
        "id": "uUj417NJltIN",
        "colab_type": "code",
        "colab": {
          "base_uri": "https://localhost:8080/",
          "height": 119
        },
        "outputId": "71058caf-b155-4e03-fa31-307af6e80721"
      },
      "source": [
        "import tensorflow as tf\n",
        "\n",
        "idx = tf.constant([2, 0, -1, 0])\n",
        "target = tf.one_hot(idx, 3, 2, 0)\n",
        "\n",
        "@tf.function\n",
        "def compute_values():\n",
        "  print(idx)\n",
        "  print(target)\n",
        "\n",
        "compute_values()                      "
      ],
      "execution_count": 2,
      "outputs": [
        {
          "output_type": "stream",
          "text": [
            "tf.Tensor([ 2  0 -1  0], shape=(4,), dtype=int32)\n",
            "tf.Tensor(\n",
            "[[0 0 2]\n",
            " [2 0 0]\n",
            " [0 0 0]\n",
            " [2 0 0]], shape=(4, 3), dtype=int32)\n"
          ],
          "name": "stdout"
        }
      ]
    }
  ]
}